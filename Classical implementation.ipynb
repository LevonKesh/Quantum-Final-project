{
 "cells": [
  {
   "cell_type": "code",
   "execution_count": 1,
   "id": "e10afc43-1994-4038-8f6c-04ff542a5c05",
   "metadata": {
    "tags": []
   },
   "outputs": [],
   "source": [
    "import numpy as np\n",
    "import pandas as pd"
   ]
  },
  {
   "cell_type": "code",
   "execution_count": 2,
   "id": "cd1a2ce0-2bf6-4d03-9fad-478bb8f234bd",
   "metadata": {
    "tags": []
   },
   "outputs": [],
   "source": [
    "def keeped_guess_diff(num1, num2):\n",
    "    number = num1^num2\n",
    "    binary_number = \"{0:b}\".format(number)        # convert into binary\n",
    "    diff = sum(int(item) for item in binary_number )\n",
    "    return diff"
   ]
  },
  {
   "cell_type": "code",
   "execution_count": 3,
   "id": "bbc422d1-4160-4cbf-bf8a-1bacb101b823",
   "metadata": {
    "tags": []
   },
   "outputs": [],
   "source": [
    "def array_guess_diff(arr, guess):\n",
    "    arr2 = np.array([keeped_guess_diff(i, guess) for i in arr])\n",
    "    return arr2"
   ]
  },
  {
   "cell_type": "code",
   "execution_count": 4,
   "id": "2022665f-d695-4b41-bc25-6e23073f9cfe",
   "metadata": {
    "tags": []
   },
   "outputs": [],
   "source": [
    "def apply_filtering(arr, nums, keeped_num):\n",
    "    for num in nums:\n",
    "        diff = keeped_guess_diff(num, keeped_num)\n",
    "        arr = arr[array_guess_diff(arr, num) == diff]\n",
    "    return arr"
   ]
  },
  {
   "cell_type": "code",
   "execution_count": 5,
   "id": "4220680e-5fcd-4f43-a022-962893a8bc42",
   "metadata": {
    "tags": []
   },
   "outputs": [],
   "source": [
    "def by_interval(k):\n",
    "    num = 2**k\n",
    "    return num"
   ]
  },
  {
   "cell_type": "code",
   "execution_count": 6,
   "id": "8d8ce8e1-17bb-4321-aa09-e15bad557f0b",
   "metadata": {
    "tags": []
   },
   "outputs": [],
   "source": [
    "n = 10\n",
    "keeped_num = 678\n",
    "all_possibilities = np.arange(2**n)"
   ]
  },
  {
   "cell_type": "code",
   "execution_count": 7,
   "id": "88953d7e-3176-4ce9-b0b3-100e061e1b58",
   "metadata": {
    "tags": []
   },
   "outputs": [],
   "source": [
    "guesses = lambda k:[by_interval(i) for i in range(0, k)]"
   ]
  },
  {
   "cell_type": "code",
   "execution_count": 8,
   "id": "ae421baf-b93b-45df-909a-f6757c6c4f4b",
   "metadata": {
    "tags": []
   },
   "outputs": [
    {
     "data": {
      "text/plain": [
       "array([678])"
      ]
     },
     "execution_count": 8,
     "metadata": {},
     "output_type": "execute_result"
    }
   ],
   "source": [
    "apply_filtering(all_possibilities, guesses(10), keeped_num)"
   ]
  }
 ],
 "metadata": {
  "kernelspec": {
   "display_name": "Python 3 (ipykernel)",
   "language": "python",
   "name": "python3"
  },
  "language_info": {
   "codemirror_mode": {
    "name": "ipython",
    "version": 3
   },
   "file_extension": ".py",
   "mimetype": "text/x-python",
   "name": "python",
   "nbconvert_exporter": "python",
   "pygments_lexer": "ipython3",
   "version": "3.11.7"
  }
 },
 "nbformat": 4,
 "nbformat_minor": 5
}
